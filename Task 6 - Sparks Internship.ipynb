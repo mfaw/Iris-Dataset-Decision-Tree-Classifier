{
 "cells": [
  {
   "cell_type": "markdown",
   "id": "a0266560",
   "metadata": {},
   "source": [
    "# Task 6 - The Sparks Foundation Internship"
   ]
  },
  {
   "cell_type": "markdown",
   "id": "c8e7b52b",
   "metadata": {},
   "source": [
    "## Predicition of Iris Data using Decision Trees"
   ]
  },
  {
   "cell_type": "markdown",
   "id": "ad3aa398",
   "metadata": {},
   "source": [
    "### Done by Mariam Mahmoud Fawzi"
   ]
  },
  {
   "cell_type": "markdown",
   "id": "8c853c46",
   "metadata": {},
   "source": [
    "**How does decision trees work**"
   ]
  },
  {
   "cell_type": "markdown",
   "id": "2e91f51a",
   "metadata": {},
   "source": [
    "The decision tree is a supervised learning algorithm that can be used for both classification and regression. In our problem, it was used for classification. Just like any tree, the decision tree has a parent, child, and leaf. It is based on asking a conditional question at each node and make the best split until we reach a decision at a leaf node. We first pick a random feature and calculate it's **gini index**. Then, we calculate the **information gain** of all the other features. The information gain is calculated to find the best split. We split based on the feature with the **highest gain**. We create the other chilren by repeating this process."
   ]
  },
  {
   "cell_type": "markdown",
   "id": "52e2b613",
   "metadata": {},
   "source": [
    "### Imported Libraries"
   ]
  },
  {
   "cell_type": "code",
   "execution_count": 1,
   "id": "0bf6553a",
   "metadata": {},
   "outputs": [],
   "source": [
    "import os\n",
    "import pandas as pd\n",
    "from matplotlib import pyplot as plt\n",
    "import matplotlib.colors as colors\n",
    "import seaborn as sns\n",
    "from sklearn.model_selection import train_test_split, GridSearchCV\n",
    "from sklearn.tree import DecisionTreeClassifier\n",
    "from sklearn.metrics import classification_report\n",
    "from sklearn.metrics import accuracy_score\n",
    "\n",
    "from sklearn.tree import export_graphviz\n",
    "from six import StringIO\n",
    "from IPython.display import Image\n",
    "import pydotplus"
   ]
  },
  {
   "cell_type": "markdown",
   "id": "e3ab690c",
   "metadata": {},
   "source": [
    "### Reading csv file"
   ]
  },
  {
   "cell_type": "code",
   "execution_count": 2,
   "id": "794ec5c9",
   "metadata": {},
   "outputs": [],
   "source": [
    "filename = 'Iris.csv'\n",
    "\n",
    "directory = 'data'\n",
    "\n",
    "file_directory = os.path.join(directory, filename)\n",
    "\n",
    "dataframe = pd.read_csv(file_directory , index_col= 0)"
   ]
  },
  {
   "cell_type": "code",
   "execution_count": 3,
   "id": "0ed79b9d",
   "metadata": {},
   "outputs": [
    {
     "data": {
      "text/html": [
       "<div>\n",
       "<style scoped>\n",
       "    .dataframe tbody tr th:only-of-type {\n",
       "        vertical-align: middle;\n",
       "    }\n",
       "\n",
       "    .dataframe tbody tr th {\n",
       "        vertical-align: top;\n",
       "    }\n",
       "\n",
       "    .dataframe thead th {\n",
       "        text-align: right;\n",
       "    }\n",
       "</style>\n",
       "<table border=\"1\" class=\"dataframe\">\n",
       "  <thead>\n",
       "    <tr style=\"text-align: right;\">\n",
       "      <th></th>\n",
       "      <th>SepalLengthCm</th>\n",
       "      <th>SepalWidthCm</th>\n",
       "      <th>PetalLengthCm</th>\n",
       "      <th>PetalWidthCm</th>\n",
       "      <th>Species</th>\n",
       "    </tr>\n",
       "    <tr>\n",
       "      <th>Id</th>\n",
       "      <th></th>\n",
       "      <th></th>\n",
       "      <th></th>\n",
       "      <th></th>\n",
       "      <th></th>\n",
       "    </tr>\n",
       "  </thead>\n",
       "  <tbody>\n",
       "    <tr>\n",
       "      <th>1</th>\n",
       "      <td>5.1</td>\n",
       "      <td>3.5</td>\n",
       "      <td>1.4</td>\n",
       "      <td>0.2</td>\n",
       "      <td>Iris-setosa</td>\n",
       "    </tr>\n",
       "    <tr>\n",
       "      <th>2</th>\n",
       "      <td>4.9</td>\n",
       "      <td>3.0</td>\n",
       "      <td>1.4</td>\n",
       "      <td>0.2</td>\n",
       "      <td>Iris-setosa</td>\n",
       "    </tr>\n",
       "    <tr>\n",
       "      <th>3</th>\n",
       "      <td>4.7</td>\n",
       "      <td>3.2</td>\n",
       "      <td>1.3</td>\n",
       "      <td>0.2</td>\n",
       "      <td>Iris-setosa</td>\n",
       "    </tr>\n",
       "    <tr>\n",
       "      <th>4</th>\n",
       "      <td>4.6</td>\n",
       "      <td>3.1</td>\n",
       "      <td>1.5</td>\n",
       "      <td>0.2</td>\n",
       "      <td>Iris-setosa</td>\n",
       "    </tr>\n",
       "    <tr>\n",
       "      <th>5</th>\n",
       "      <td>5.0</td>\n",
       "      <td>3.6</td>\n",
       "      <td>1.4</td>\n",
       "      <td>0.2</td>\n",
       "      <td>Iris-setosa</td>\n",
       "    </tr>\n",
       "    <tr>\n",
       "      <th>...</th>\n",
       "      <td>...</td>\n",
       "      <td>...</td>\n",
       "      <td>...</td>\n",
       "      <td>...</td>\n",
       "      <td>...</td>\n",
       "    </tr>\n",
       "    <tr>\n",
       "      <th>146</th>\n",
       "      <td>6.7</td>\n",
       "      <td>3.0</td>\n",
       "      <td>5.2</td>\n",
       "      <td>2.3</td>\n",
       "      <td>Iris-virginica</td>\n",
       "    </tr>\n",
       "    <tr>\n",
       "      <th>147</th>\n",
       "      <td>6.3</td>\n",
       "      <td>2.5</td>\n",
       "      <td>5.0</td>\n",
       "      <td>1.9</td>\n",
       "      <td>Iris-virginica</td>\n",
       "    </tr>\n",
       "    <tr>\n",
       "      <th>148</th>\n",
       "      <td>6.5</td>\n",
       "      <td>3.0</td>\n",
       "      <td>5.2</td>\n",
       "      <td>2.0</td>\n",
       "      <td>Iris-virginica</td>\n",
       "    </tr>\n",
       "    <tr>\n",
       "      <th>149</th>\n",
       "      <td>6.2</td>\n",
       "      <td>3.4</td>\n",
       "      <td>5.4</td>\n",
       "      <td>2.3</td>\n",
       "      <td>Iris-virginica</td>\n",
       "    </tr>\n",
       "    <tr>\n",
       "      <th>150</th>\n",
       "      <td>5.9</td>\n",
       "      <td>3.0</td>\n",
       "      <td>5.1</td>\n",
       "      <td>1.8</td>\n",
       "      <td>Iris-virginica</td>\n",
       "    </tr>\n",
       "  </tbody>\n",
       "</table>\n",
       "<p>150 rows × 5 columns</p>\n",
       "</div>"
      ],
      "text/plain": [
       "     SepalLengthCm  SepalWidthCm  PetalLengthCm  PetalWidthCm         Species\n",
       "Id                                                                           \n",
       "1              5.1           3.5            1.4           0.2     Iris-setosa\n",
       "2              4.9           3.0            1.4           0.2     Iris-setosa\n",
       "3              4.7           3.2            1.3           0.2     Iris-setosa\n",
       "4              4.6           3.1            1.5           0.2     Iris-setosa\n",
       "5              5.0           3.6            1.4           0.2     Iris-setosa\n",
       "..             ...           ...            ...           ...             ...\n",
       "146            6.7           3.0            5.2           2.3  Iris-virginica\n",
       "147            6.3           2.5            5.0           1.9  Iris-virginica\n",
       "148            6.5           3.0            5.2           2.0  Iris-virginica\n",
       "149            6.2           3.4            5.4           2.3  Iris-virginica\n",
       "150            5.9           3.0            5.1           1.8  Iris-virginica\n",
       "\n",
       "[150 rows x 5 columns]"
      ]
     },
     "execution_count": 3,
     "metadata": {},
     "output_type": "execute_result"
    }
   ],
   "source": [
    "#our data\n",
    "dataframe"
   ]
  },
  {
   "cell_type": "markdown",
   "id": "e6a1c8f7",
   "metadata": {},
   "source": [
    "### Checking the data"
   ]
  },
  {
   "cell_type": "code",
   "execution_count": 4,
   "id": "02d6968c",
   "metadata": {},
   "outputs": [
    {
     "data": {
      "text/plain": [
       "['SepalLengthCm', 'SepalWidthCm', 'PetalLengthCm', 'PetalWidthCm', 'Species']"
      ]
     },
     "execution_count": 4,
     "metadata": {},
     "output_type": "execute_result"
    }
   ],
   "source": [
    "#Data features\n",
    "data = dataframe.to_numpy()\n",
    "columns = dataframe.columns\n",
    "columns = list(columns)\n",
    "columns"
   ]
  },
  {
   "cell_type": "markdown",
   "id": "cda875af",
   "metadata": {},
   "source": [
    "**Heat Map**"
   ]
  },
  {
   "cell_type": "code",
   "execution_count": 5,
   "id": "358986b8",
   "metadata": {},
   "outputs": [
    {
     "data": {
      "text/plain": [
       "<AxesSubplot:>"
      ]
     },
     "execution_count": 5,
     "metadata": {},
     "output_type": "execute_result"
    },
    {
     "data": {
      "image/png": "[encoded data removed]",
      "text/plain": [
       "<Figure size 1440x1440 with 2 Axes>"
      ]
     },
     "metadata": {
      "needs_background": "light"
     },
     "output_type": "display_data"
    }
   ],
   "source": [
    "#Heat map to check the correlation between the features\n",
    "corr = dataframe.corr()\n",
    "f, ax = plt.subplots(figsize=(20, 20))\n",
    "dataplot = sns.heatmap(corr, cmap=\"YlGnBu\", annot=True)\n",
    "dataplot"
   ]
  },
  {
   "cell_type": "markdown",
   "id": "b920e537",
   "metadata": {},
   "source": [
    "We can notice the relation between the features and can notice **SepalWidthCm** specifically doesn't have a high correlations with other features like the others which could possibly mean this feature has many details."
   ]
  },
  {
   "cell_type": "markdown",
   "id": "6ea46fb1",
   "metadata": {},
   "source": [
    "**Box plot to check if there are any outliers**"
   ]
  },
  {
   "cell_type": "code",
   "execution_count": 6,
   "id": "50dc9953",
   "metadata": {},
   "outputs": [
    {
     "data": {
      "image/png": "[encoded data removed]",
      "text/plain": [
       "<Figure size 1490.4x1027.44 with 1 Axes>"
      ]
     },
     "metadata": {},
     "output_type": "display_data"
    }
   ],
   "source": [
    "#box-plot\n",
    "sns.set(rc={'figure.figsize':(20.7,14.27)})\n",
    "display = sns.boxplot(data = dataframe)\n",
    "plt.show()"
   ]
  },
  {
   "cell_type": "markdown",
   "id": "2a9ace67",
   "metadata": {},
   "source": [
    "We can notice that there are few outliers in **SepalWidthCm**. I decided not to remove them because they will not greatly affect the data."
   ]
  },
  {
   "cell_type": "markdown",
   "id": "1bc44a85",
   "metadata": {},
   "source": [
    "### Visualizing the data"
   ]
  },
  {
   "cell_type": "code",
   "execution_count": 7,
   "id": "af37c54b",
   "metadata": {},
   "outputs": [
    {
     "data": {
      "text/plain": [
       "<seaborn.axisgrid.FacetGrid at 0x212650641f0>"
      ]
     },
     "execution_count": 7,
     "metadata": {},
     "output_type": "execute_result"
    },
    {
     "data": {
      "image/png": "[encoded data removed]",
      "text/plain": [
       "<Figure size 321.225x216 with 1 Axes>"
      ]
     },
     "metadata": {},
     "output_type": "display_data"
    }
   ],
   "source": [
    "## Visualising 2 features based on the species\n",
    "\n",
    "sns.set_style('whitegrid')\n",
    "sns.FacetGrid(dataframe, hue='Species').map(plt.scatter, 'SepalLengthCm', 'SepalWidthCm').add_legend()\n",
    "\n"
   ]
  },
  {
   "cell_type": "markdown",
   "id": "eedb45f5",
   "metadata": {},
   "source": [
    "We can notice here that *Iris-versicolor* and *Iris-virginica* are overlapping while *Iris-setosa* is not."
   ]
  },
  {
   "cell_type": "markdown",
   "id": "4602908c",
   "metadata": {},
   "source": [
    "### Preparing the data"
   ]
  },
  {
   "cell_type": "code",
   "execution_count": 8,
   "id": "1d1d60ed",
   "metadata": {},
   "outputs": [],
   "source": [
    "target = dataframe['Species'].values\n",
    "features = dataframe.drop('Species' , axis = 1)"
   ]
  },
  {
   "cell_type": "markdown",
   "id": "5da339c7",
   "metadata": {},
   "source": [
    "The data will not undergo any prepocessing and will be used as given. This is because data is already numerical and decision trees don't require preprocessing the data."
   ]
  },
  {
   "cell_type": "markdown",
   "id": "2e70060a",
   "metadata": {},
   "source": [
    "We split our data into training data and test data. I use **20% for the test data** because it is the most commonly used and because the dataset it small. Also, I **stratified the train-test split**. This allows splitting the dataset into train and test sets in a way that preserves the same proportions of examples in each class as observed in the original dataset.\n",
    "This will give more realistic results when predicting new data."
   ]
  },
  {
   "cell_type": "code",
   "execution_count": 9,
   "id": "846e7b03",
   "metadata": {},
   "outputs": [
    {
     "data": {
      "text/plain": [
       "(120, 4)"
      ]
     },
     "execution_count": 9,
     "metadata": {},
     "output_type": "execute_result"
    }
   ],
   "source": [
    "#X_train, X_test, y_train, y_test = train_test_split(features, target, test_size=0.30, random_state=42)\n",
    "X_train, X_test, y_train, y_test = train_test_split(features, target, test_size=0.20, random_state=42 , stratify = target)\n",
    "X_train.shape"
   ]
  },
  {
   "cell_type": "code",
   "execution_count": 10,
   "id": "e4872d74",
   "metadata": {},
   "outputs": [
    {
     "data": {
      "text/plain": [
       "(30, 4)"
      ]
     },
     "execution_count": 10,
     "metadata": {},
     "output_type": "execute_result"
    }
   ],
   "source": [
    "X_test.shape"
   ]
  },
  {
   "cell_type": "markdown",
   "id": "c00c1ede",
   "metadata": {},
   "source": [
    "### Building the model"
   ]
  },
  {
   "cell_type": "markdown",
   "id": "bdc1a04a",
   "metadata": {},
   "source": [
    "I will use **GridSearchCV** to allow tuning the hyperparameters of the Decision Tree. "
   ]
  },
  {
   "cell_type": "markdown",
   "id": "b61f2b86",
   "metadata": {},
   "source": [
    "We will only use **gini index** as our criterion. The best model is selected based on the hyperparameters **max_depth, min_samples_split, min_samples_leaf, and max_features**. After research and trials I found that these hyperparameters are the most commonly tuned ones. These parameters are used to prevent overfitting. *min_samples_split* is minimum number of observations that are required in a node to be considered for splitting, a high value of it will prevent overfitting. *min_samples_leaf* defines the minimum observations required in a leaf, lower values should be chosen for imbalanced class problems as the regions in which the minority class will be in majority will be of small size. *max_depth* used to control over-fitting as higher depth will allow the model to learn relations very specific to a particular sample. *max_features* the number of features to consider while searching for the best split, higher values can lead to over-fitting but depend on case to case."
   ]
  },
  {
   "cell_type": "code",
   "execution_count": 11,
   "id": "f900e487",
   "metadata": {},
   "outputs": [
    {
     "name": "stdout",
     "output_type": "stream",
     "text": [
      "Fitting 10 folds for each of 256 candidates, totalling 2560 fits\n"
     ]
    },
    {
     "data": {
      "text/plain": [
       "GridSearchCV(cv=10, estimator=DecisionTreeClassifier(random_state=42),\n",
       "             param_grid={'criterion': ['gini'], 'max_depth': [1, 2, 3, 4],\n",
       "                         'max_features': [1, 2, 3, 4],\n",
       "                         'min_samples_leaf': [1, 2, 3, 4],\n",
       "                         'min_samples_split': [2, 3, 4, 5]},\n",
       "             verbose=1)"
      ]
     },
     "execution_count": 11,
     "metadata": {},
     "output_type": "execute_result"
    }
   ],
   "source": [
    "#setting possible values of parameters\n",
    "param_values = [k for k in range(1,5)]\n",
    "param = [k for k in range(2,6)]\n",
    "params = {'max_depth' : param_values, 'min_samples_split' : param, \\\n",
    "          'min_samples_leaf' : param_values, 'max_features' : param_values, 'criterion':['gini']}\n",
    "\n",
    "#tuning the hyperparameters discussed above\n",
    "grid_search_cv = GridSearchCV(DecisionTreeClassifier(random_state=42), params, verbose=1, cv=10)\n",
    "grid_search_cv.fit(X_train, y_train)"
   ]
  },
  {
   "cell_type": "markdown",
   "id": "abc17408",
   "metadata": {},
   "source": [
    "Notice that in the cell above, I did **cross validation** using 10 K-folds to prevent overfitting. "
   ]
  },
  {
   "cell_type": "code",
   "execution_count": 12,
   "id": "f00d143b",
   "metadata": {},
   "outputs": [],
   "source": [
    "#best model which is the one that gave the highest score\n",
    "clf = grid_search_cv.best_estimator_"
   ]
  },
  {
   "cell_type": "markdown",
   "id": "0ea9f9be",
   "metadata": {},
   "source": [
    "### Prediction and model accuracy"
   ]
  },
  {
   "cell_type": "code",
   "execution_count": 13,
   "id": "b3df10e5",
   "metadata": {},
   "outputs": [],
   "source": [
    "#predicting the labels of the test set\n",
    "y_pred_test = clf.predict(X_test)"
   ]
  },
  {
   "cell_type": "code",
   "execution_count": 14,
   "id": "5fbf8d67",
   "metadata": {},
   "outputs": [
    {
     "name": "stdout",
     "output_type": "stream",
     "text": [
      "------------------------------------------------------\n",
      "Accuracy Score:  0.9333333333333333\n",
      "                 precision    recall  f1-score   support\n",
      "\n",
      "    Iris-setosa       1.00      1.00      1.00        10\n",
      "Iris-versicolor       0.90      0.90      0.90        10\n",
      " Iris-virginica       0.90      0.90      0.90        10\n",
      "\n",
      "       accuracy                           0.93        30\n",
      "      macro avg       0.93      0.93      0.93        30\n",
      "   weighted avg       0.93      0.93      0.93        30\n",
      "\n"
     ]
    }
   ],
   "source": [
    "print(f'------------------------------------------------------')\n",
    "score = clf.score(X_test, y_test)\n",
    "print('Accuracy Score: ', score)\n",
    "#Look at classification report to evaluate the model\n",
    "print(classification_report(y_test, y_pred_test))"
   ]
  },
  {
   "cell_type": "markdown",
   "id": "3bae639a",
   "metadata": {},
   "source": [
    "We can notice that the accuracy is **93%** which is a good indicator. However, without stratifying the train-test split, we can reach 100% accuracy which is not very accurate because, it's not an accurate representation of the data.\n"
   ]
  },
  {
   "cell_type": "markdown",
   "id": "3ddc34d1",
   "metadata": {},
   "source": [
    "### Tree Visualization"
   ]
  },
  {
   "cell_type": "code",
   "execution_count": 15,
   "id": "99c93145",
   "metadata": {},
   "outputs": [
    {
     "data": {
      "text/plain": [
       "['SepalLengthCm', 'SepalWidthCm', 'PetalLengthCm', 'PetalWidthCm']"
      ]
     },
     "execution_count": 15,
     "metadata": {},
     "output_type": "execute_result"
    }
   ],
   "source": [
    "columns.remove(\"Species\")\n",
    "columns"
   ]
  },
  {
   "cell_type": "code",
   "execution_count": 16,
   "id": "78ff671d",
   "metadata": {},
   "outputs": [
    {
     "data": {
      "image/png": "[encoded data removed]",
      "text/plain": [
       "<IPython.core.display.Image object>"
      ]
     },
     "execution_count": 16,
     "metadata": {},
     "output_type": "execute_result"
    }
   ],
   "source": [
    "dot_data = StringIO()\n",
    "export_graphviz(clf , out_file = dot_data , rounded = True  , filled = True , special_characters = True, feature_names = columns, class_names = ['Iris-setosa', 'Iris-virginica','Iris-versicolor'])\n",
    "graph = pydotplus.graph_from_dot_data(dot_data.getvalue())\n",
    "graph.write_png(\"Iris.png\")\n",
    "Image(graph.create_png())"
   ]
  },
  {
   "cell_type": "code",
   "execution_count": null,
   "id": "ef2178a9",
   "metadata": {},
   "outputs": [],
   "source": []
  },
  {
   "cell_type": "code",
   "execution_count": null,
   "id": "17999d1a",
   "metadata": {},
   "outputs": [],
   "source": []
  }
 ],
 "metadata": {
  "kernelspec": {
   "display_name": "Python 3 (ipykernel)",
   "language": "python",
   "name": "python3"
  },
  "language_info": {
   "codemirror_mode": {
    "name": "ipython",
    "version": 3
   },
   "file_extension": ".py",
   "mimetype": "text/x-python",
   "name": "python",
   "nbconvert_exporter": "python",
   "pygments_lexer": "ipython3",
   "version": "3.8.12"
  }
 },
 "nbformat": 4,
 "nbformat_minor": 5
}
